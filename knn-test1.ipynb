{
 "cells": [
  {
   "cell_type": "code",
   "execution_count": 1,
   "id": "d02c71b6",
   "metadata": {
    "_cell_guid": "b1076dfc-b9ad-4769-8c92-a6c4dae69d19",
    "_uuid": "8f2839f25d086af736a60e9eeb907d3b93b6e0e5",
    "execution": {
     "iopub.execute_input": "2022-02-10T08:11:59.316554Z",
     "iopub.status.busy": "2022-02-10T08:11:59.315459Z",
     "iopub.status.idle": "2022-02-10T08:11:59.335399Z",
     "shell.execute_reply": "2022-02-10T08:11:59.334348Z",
     "shell.execute_reply.started": "2022-02-10T07:57:44.615311Z"
    },
    "papermill": {
     "duration": 0.032988,
     "end_time": "2022-02-10T08:11:59.335766",
     "exception": false,
     "start_time": "2022-02-10T08:11:59.302778",
     "status": "completed"
    },
    "tags": []
   },
   "outputs": [
    {
     "name": "stdout",
     "output_type": "stream",
     "text": [
      "/kaggle/input/ridingmowerscsv/RidingMowers.csv\n"
     ]
    }
   ],
   "source": [
    "# This Python 3 environment comes with many helpful analytics libraries installed\n",
    "# It is defined by the kaggle/python Docker image: https://github.com/kaggle/docker-python\n",
    "# For example, here's several helpful packages to load\n",
    "\n",
    "import numpy as np # linear algebra\n",
    "import pandas as pd # data processing, CSV file I/O (e.g. pd.read_csv)\n",
    "\n",
    "# Input data files are available in the read-only \"../input/\" directory\n",
    "# For example, running this (by clicking run or pressing Shift+Enter) will list all files under the input directory\n",
    "\n",
    "import os\n",
    "for dirname, _, filenames in os.walk('/kaggle/input'):\n",
    "    for filename in filenames:\n",
    "        print(os.path.join(dirname, filename))\n",
    "\n",
    "# You can write up to 20GB to the current directory (/kaggle/working/) that gets preserved as output when you create a version using \"Save & Run All\" \n",
    "# You can also write temporary files to /kaggle/temp/, but they won't be saved outside of the current session"
   ]
  },
  {
   "cell_type": "code",
   "execution_count": 2,
   "id": "2ac1724c",
   "metadata": {
    "execution": {
     "iopub.execute_input": "2022-02-10T08:11:59.356136Z",
     "iopub.status.busy": "2022-02-10T08:11:59.355545Z",
     "iopub.status.idle": "2022-02-10T08:12:00.534361Z",
     "shell.execute_reply": "2022-02-10T08:12:00.533786Z",
     "shell.execute_reply.started": "2022-02-10T07:57:44.648155Z"
    },
    "papermill": {
     "duration": 1.189648,
     "end_time": "2022-02-10T08:12:00.534513",
     "exception": false,
     "start_time": "2022-02-10T08:11:59.344865",
     "status": "completed"
    },
    "tags": []
   },
   "outputs": [],
   "source": [
    "import pandas as pd\n",
    "from sklearn import preprocessing\n",
    "from sklearn.model_selection import train_test_split\n",
    "from sklearn.metrics import accuracy_score\n",
    "from sklearn.neighbors import NearestNeighbors,KNeighborsClassifier\n",
    "import matplotlib.pylab as plt"
   ]
  },
  {
   "cell_type": "code",
   "execution_count": 3,
   "id": "c6ce85d0",
   "metadata": {
    "execution": {
     "iopub.execute_input": "2022-02-10T08:12:00.555519Z",
     "iopub.status.busy": "2022-02-10T08:12:00.554876Z",
     "iopub.status.idle": "2022-02-10T08:12:00.577136Z",
     "shell.execute_reply": "2022-02-10T08:12:00.577575Z",
     "shell.execute_reply.started": "2022-02-10T07:57:46.925552Z"
    },
    "papermill": {
     "duration": 0.035117,
     "end_time": "2022-02-10T08:12:00.577740",
     "exception": false,
     "start_time": "2022-02-10T08:12:00.542623",
     "status": "completed"
    },
    "tags": []
   },
   "outputs": [
    {
     "data": {
      "text/html": [
       "<div>\n",
       "<style scoped>\n",
       "    .dataframe tbody tr th:only-of-type {\n",
       "        vertical-align: middle;\n",
       "    }\n",
       "\n",
       "    .dataframe tbody tr th {\n",
       "        vertical-align: top;\n",
       "    }\n",
       "\n",
       "    .dataframe thead th {\n",
       "        text-align: right;\n",
       "    }\n",
       "</style>\n",
       "<table border=\"1\" class=\"dataframe\">\n",
       "  <thead>\n",
       "    <tr style=\"text-align: right;\">\n",
       "      <th></th>\n",
       "      <th>Income</th>\n",
       "      <th>Lot_Size</th>\n",
       "      <th>Ownership</th>\n",
       "    </tr>\n",
       "  </thead>\n",
       "  <tbody>\n",
       "    <tr>\n",
       "      <th>0</th>\n",
       "      <td>60.0</td>\n",
       "      <td>18.4</td>\n",
       "      <td>Owner</td>\n",
       "    </tr>\n",
       "    <tr>\n",
       "      <th>1</th>\n",
       "      <td>85.5</td>\n",
       "      <td>16.8</td>\n",
       "      <td>Owner</td>\n",
       "    </tr>\n",
       "    <tr>\n",
       "      <th>2</th>\n",
       "      <td>64.8</td>\n",
       "      <td>21.6</td>\n",
       "      <td>Owner</td>\n",
       "    </tr>\n",
       "    <tr>\n",
       "      <th>3</th>\n",
       "      <td>61.5</td>\n",
       "      <td>20.8</td>\n",
       "      <td>Owner</td>\n",
       "    </tr>\n",
       "    <tr>\n",
       "      <th>4</th>\n",
       "      <td>87.0</td>\n",
       "      <td>23.6</td>\n",
       "      <td>Owner</td>\n",
       "    </tr>\n",
       "  </tbody>\n",
       "</table>\n",
       "</div>"
      ],
      "text/plain": [
       "   Income  Lot_Size Ownership\n",
       "0    60.0      18.4     Owner\n",
       "1    85.5      16.8     Owner\n",
       "2    64.8      21.6     Owner\n",
       "3    61.5      20.8     Owner\n",
       "4    87.0      23.6     Owner"
      ]
     },
     "execution_count": 3,
     "metadata": {},
     "output_type": "execute_result"
    }
   ],
   "source": [
    "mower_df=pd.read_csv('../input/ridingmowerscsv/RidingMowers.csv')\n",
    "mower_df.head()"
   ]
  },
  {
   "cell_type": "code",
   "execution_count": 4,
   "id": "99909168",
   "metadata": {
    "execution": {
     "iopub.execute_input": "2022-02-10T08:12:00.606441Z",
     "iopub.status.busy": "2022-02-10T08:12:00.596514Z",
     "iopub.status.idle": "2022-02-10T08:12:00.610153Z",
     "shell.execute_reply": "2022-02-10T08:12:00.609696Z",
     "shell.execute_reply.started": "2022-02-10T07:57:53.307141Z"
    },
    "papermill": {
     "duration": 0.024238,
     "end_time": "2022-02-10T08:12:00.610289",
     "exception": false,
     "start_time": "2022-02-10T08:12:00.586051",
     "status": "completed"
    },
    "tags": []
   },
   "outputs": [
    {
     "data": {
      "text/html": [
       "<div>\n",
       "<style scoped>\n",
       "    .dataframe tbody tr th:only-of-type {\n",
       "        vertical-align: middle;\n",
       "    }\n",
       "\n",
       "    .dataframe tbody tr th {\n",
       "        vertical-align: top;\n",
       "    }\n",
       "\n",
       "    .dataframe thead th {\n",
       "        text-align: right;\n",
       "    }\n",
       "</style>\n",
       "<table border=\"1\" class=\"dataframe\">\n",
       "  <thead>\n",
       "    <tr style=\"text-align: right;\">\n",
       "      <th></th>\n",
       "      <th>Income</th>\n",
       "      <th>Lot_Size</th>\n",
       "      <th>Ownership</th>\n",
       "      <th>Number</th>\n",
       "    </tr>\n",
       "  </thead>\n",
       "  <tbody>\n",
       "    <tr>\n",
       "      <th>0</th>\n",
       "      <td>60.0</td>\n",
       "      <td>18.4</td>\n",
       "      <td>Owner</td>\n",
       "      <td>1</td>\n",
       "    </tr>\n",
       "    <tr>\n",
       "      <th>1</th>\n",
       "      <td>85.5</td>\n",
       "      <td>16.8</td>\n",
       "      <td>Owner</td>\n",
       "      <td>2</td>\n",
       "    </tr>\n",
       "    <tr>\n",
       "      <th>2</th>\n",
       "      <td>64.8</td>\n",
       "      <td>21.6</td>\n",
       "      <td>Owner</td>\n",
       "      <td>3</td>\n",
       "    </tr>\n",
       "    <tr>\n",
       "      <th>3</th>\n",
       "      <td>61.5</td>\n",
       "      <td>20.8</td>\n",
       "      <td>Owner</td>\n",
       "      <td>4</td>\n",
       "    </tr>\n",
       "    <tr>\n",
       "      <th>4</th>\n",
       "      <td>87.0</td>\n",
       "      <td>23.6</td>\n",
       "      <td>Owner</td>\n",
       "      <td>5</td>\n",
       "    </tr>\n",
       "  </tbody>\n",
       "</table>\n",
       "</div>"
      ],
      "text/plain": [
       "   Income  Lot_Size Ownership  Number\n",
       "0    60.0      18.4     Owner       1\n",
       "1    85.5      16.8     Owner       2\n",
       "2    64.8      21.6     Owner       3\n",
       "3    61.5      20.8     Owner       4\n",
       "4    87.0      23.6     Owner       5"
      ]
     },
     "execution_count": 4,
     "metadata": {},
     "output_type": "execute_result"
    }
   ],
   "source": [
    "mower_df['Number']=mower_df.index+1\n",
    "mower_df.head()"
   ]
  },
  {
   "cell_type": "code",
   "execution_count": 5,
   "id": "3dcaa6ae",
   "metadata": {
    "execution": {
     "iopub.execute_input": "2022-02-10T08:12:00.630814Z",
     "iopub.status.busy": "2022-02-10T08:12:00.629922Z",
     "iopub.status.idle": "2022-02-10T08:12:00.643187Z",
     "shell.execute_reply": "2022-02-10T08:12:00.642736Z",
     "shell.execute_reply.started": "2022-02-10T07:57:56.739559Z"
    },
    "papermill": {
     "duration": 0.024491,
     "end_time": "2022-02-10T08:12:00.643327",
     "exception": false,
     "start_time": "2022-02-10T08:12:00.618836",
     "status": "completed"
    },
    "tags": []
   },
   "outputs": [
    {
     "data": {
      "text/html": [
       "<div>\n",
       "<style scoped>\n",
       "    .dataframe tbody tr th:only-of-type {\n",
       "        vertical-align: middle;\n",
       "    }\n",
       "\n",
       "    .dataframe tbody tr th {\n",
       "        vertical-align: top;\n",
       "    }\n",
       "\n",
       "    .dataframe thead th {\n",
       "        text-align: right;\n",
       "    }\n",
       "</style>\n",
       "<table border=\"1\" class=\"dataframe\">\n",
       "  <thead>\n",
       "    <tr style=\"text-align: right;\">\n",
       "      <th></th>\n",
       "      <th>Income</th>\n",
       "      <th>Lot_Size</th>\n",
       "    </tr>\n",
       "  </thead>\n",
       "  <tbody>\n",
       "    <tr>\n",
       "      <th>0</th>\n",
       "      <td>60</td>\n",
       "      <td>20</td>\n",
       "    </tr>\n",
       "  </tbody>\n",
       "</table>\n",
       "</div>"
      ],
      "text/plain": [
       "   Income  Lot_Size\n",
       "0      60        20"
      ]
     },
     "execution_count": 5,
     "metadata": {},
     "output_type": "execute_result"
    }
   ],
   "source": [
    "trainData,validData=train_test_split(mower_df,test_size=0.4,random_state=26)\n",
    "newHousehold=pd.DataFrame([{'Income':60,'Lot_Size':20}])\n",
    "newHousehold"
   ]
  },
  {
   "cell_type": "code",
   "execution_count": 6,
   "id": "484b3c8f",
   "metadata": {
    "execution": {
     "iopub.execute_input": "2022-02-10T08:12:00.672573Z",
     "iopub.status.busy": "2022-02-10T08:12:00.669165Z",
     "iopub.status.idle": "2022-02-10T08:12:00.943537Z",
     "shell.execute_reply": "2022-02-10T08:12:00.944003Z",
     "shell.execute_reply.started": "2022-02-10T07:57:59.85728Z"
    },
    "papermill": {
     "duration": 0.292009,
     "end_time": "2022-02-10T08:12:00.944174",
     "exception": false,
     "start_time": "2022-02-10T08:12:00.652165",
     "status": "completed"
    },
    "tags": []
   },
   "outputs": [
    {
     "data": {
      "image/png": "[encoded data removed]",
      "text/plain": [
       "<Figure size 432x288 with 1 Axes>"
      ]
     },
     "metadata": {
      "needs_background": "light"
     },
     "output_type": "display_data"
    }
   ],
   "source": [
    "#scatter plot\n",
    "def plotDataset(ax,data,showLabel=True,**kwargs):\n",
    "    subset=data.loc[data['Ownership']=='Owner']\n",
    "    ax.scatter(subset.Income,subset.Lot_Size,marker='D',label='Owner' if showLabel else None,color='C1',**kwargs)\n",
    "    subset=data.loc[data['Ownership']=='Nonowner']\n",
    "    ax.scatter(subset.Income,subset.Lot_Size,marker='D',label='Nonowner' if showLabel else None,color='C1',**kwargs)\n",
    "    plt.xlabel('Income')\n",
    "    plt.ylabel('Lot_Size')\n",
    "    for _,row in data.iterrows():\n",
    "        ax. annotate(row.Number,(row.Income+2,row.Lot_Size))\n",
    "fig, ax=plt.subplots()\n",
    "plotDataset(ax,trainData)\n",
    "plotDataset(ax,validData,showLabel=False,facecolors='none')\n",
    "ax.scatter(newHousehold.Income,newHousehold.Lot_Size,marker='*',label='NewHousehold',color='black',s=150)\n",
    "plt.xlabel('Income')\n",
    "plt.ylabel('Lot_size')\n",
    "handles,labels=ax.get_legend_handles_labels()\n",
    "ax.set_xlim(40,115)\n",
    "ax.legend(handles,labels,loc=4)\n",
    "plt.show()"
   ]
  },
  {
   "cell_type": "code",
   "execution_count": 7,
   "id": "af73b164",
   "metadata": {
    "execution": {
     "iopub.execute_input": "2022-02-10T08:12:00.986652Z",
     "iopub.status.busy": "2022-02-10T08:12:00.985690Z",
     "iopub.status.idle": "2022-02-10T08:12:00.989612Z",
     "shell.execute_reply": "2022-02-10T08:12:00.989147Z",
     "shell.execute_reply.started": "2022-02-10T07:58:03.811643Z"
    },
    "papermill": {
     "duration": 0.03548,
     "end_time": "2022-02-10T08:12:00.989758",
     "exception": false,
     "start_time": "2022-02-10T08:12:00.954278",
     "status": "completed"
    },
    "tags": []
   },
   "outputs": [
    {
     "data": {
      "text/html": [
       "<div>\n",
       "<style scoped>\n",
       "    .dataframe tbody tr th:only-of-type {\n",
       "        vertical-align: middle;\n",
       "    }\n",
       "\n",
       "    .dataframe tbody tr th {\n",
       "        vertical-align: top;\n",
       "    }\n",
       "\n",
       "    .dataframe thead th {\n",
       "        text-align: right;\n",
       "    }\n",
       "</style>\n",
       "<table border=\"1\" class=\"dataframe\">\n",
       "  <thead>\n",
       "    <tr style=\"text-align: right;\">\n",
       "      <th></th>\n",
       "      <th>zIncome</th>\n",
       "      <th>zLot_size</th>\n",
       "      <th>Ownership</th>\n",
       "      <th>Number</th>\n",
       "    </tr>\n",
       "  </thead>\n",
       "  <tbody>\n",
       "    <tr>\n",
       "      <th>0</th>\n",
       "      <td>-0.477910</td>\n",
       "      <td>-0.174908</td>\n",
       "      <td>Owner</td>\n",
       "      <td>1</td>\n",
       "    </tr>\n",
       "    <tr>\n",
       "      <th>1</th>\n",
       "      <td>0.680365</td>\n",
       "      <td>-0.787085</td>\n",
       "      <td>Owner</td>\n",
       "      <td>2</td>\n",
       "    </tr>\n",
       "    <tr>\n",
       "      <th>2</th>\n",
       "      <td>-0.259882</td>\n",
       "      <td>1.049447</td>\n",
       "      <td>Owner</td>\n",
       "      <td>3</td>\n",
       "    </tr>\n",
       "    <tr>\n",
       "      <th>3</th>\n",
       "      <td>-0.409776</td>\n",
       "      <td>0.743358</td>\n",
       "      <td>Owner</td>\n",
       "      <td>4</td>\n",
       "    </tr>\n",
       "    <tr>\n",
       "      <th>4</th>\n",
       "      <td>0.748499</td>\n",
       "      <td>1.814668</td>\n",
       "      <td>Owner</td>\n",
       "      <td>5</td>\n",
       "    </tr>\n",
       "    <tr>\n",
       "      <th>5</th>\n",
       "      <td>1.797760</td>\n",
       "      <td>0.131181</td>\n",
       "      <td>Owner</td>\n",
       "      <td>6</td>\n",
       "    </tr>\n",
       "    <tr>\n",
       "      <th>6</th>\n",
       "      <td>1.702373</td>\n",
       "      <td>-0.480996</td>\n",
       "      <td>Owner</td>\n",
       "      <td>7</td>\n",
       "    </tr>\n",
       "    <tr>\n",
       "      <th>7</th>\n",
       "      <td>0.557724</td>\n",
       "      <td>1.355535</td>\n",
       "      <td>Owner</td>\n",
       "      <td>8</td>\n",
       "    </tr>\n",
       "    <tr>\n",
       "      <th>8</th>\n",
       "      <td>-0.069107</td>\n",
       "      <td>0.437269</td>\n",
       "      <td>Owner</td>\n",
       "      <td>9</td>\n",
       "    </tr>\n",
       "    <tr>\n",
       "      <th>9</th>\n",
       "      <td>1.021034</td>\n",
       "      <td>0.743358</td>\n",
       "      <td>Owner</td>\n",
       "      <td>10</td>\n",
       "    </tr>\n",
       "    <tr>\n",
       "      <th>10</th>\n",
       "      <td>-0.886713</td>\n",
       "      <td>1.202491</td>\n",
       "      <td>Owner</td>\n",
       "      <td>11</td>\n",
       "    </tr>\n",
       "    <tr>\n",
       "      <th>11</th>\n",
       "      <td>0.475964</td>\n",
       "      <td>0.437269</td>\n",
       "      <td>Owner</td>\n",
       "      <td>12</td>\n",
       "    </tr>\n",
       "    <tr>\n",
       "      <th>12</th>\n",
       "      <td>0.203428</td>\n",
       "      <td>0.284225</td>\n",
       "      <td>Nonowner</td>\n",
       "      <td>13</td>\n",
       "    </tr>\n",
       "    <tr>\n",
       "      <th>13</th>\n",
       "      <td>-0.804953</td>\n",
       "      <td>0.743358</td>\n",
       "      <td>Nonowner</td>\n",
       "      <td>14</td>\n",
       "    </tr>\n",
       "    <tr>\n",
       "      <th>14</th>\n",
       "      <td>-0.259882</td>\n",
       "      <td>-0.634041</td>\n",
       "      <td>Nonowner</td>\n",
       "      <td>15</td>\n",
       "    </tr>\n",
       "    <tr>\n",
       "      <th>15</th>\n",
       "      <td>-1.241009</td>\n",
       "      <td>0.590314</td>\n",
       "      <td>Nonowner</td>\n",
       "      <td>16</td>\n",
       "    </tr>\n",
       "    <tr>\n",
       "      <th>16</th>\n",
       "      <td>0.612231</td>\n",
       "      <td>-0.480996</td>\n",
       "      <td>Nonowner</td>\n",
       "      <td>17</td>\n",
       "    </tr>\n",
       "    <tr>\n",
       "      <th>17</th>\n",
       "      <td>-0.968474</td>\n",
       "      <td>-0.480996</td>\n",
       "      <td>Nonowner</td>\n",
       "      <td>18</td>\n",
       "    </tr>\n",
       "    <tr>\n",
       "      <th>18</th>\n",
       "      <td>-0.505164</td>\n",
       "      <td>-1.093174</td>\n",
       "      <td>Nonowner</td>\n",
       "      <td>19</td>\n",
       "    </tr>\n",
       "    <tr>\n",
       "      <th>19</th>\n",
       "      <td>-0.205375</td>\n",
       "      <td>-0.174908</td>\n",
       "      <td>Nonowner</td>\n",
       "      <td>20</td>\n",
       "    </tr>\n",
       "    <tr>\n",
       "      <th>20</th>\n",
       "      <td>-1.050235</td>\n",
       "      <td>-0.940129</td>\n",
       "      <td>Nonowner</td>\n",
       "      <td>21</td>\n",
       "    </tr>\n",
       "    <tr>\n",
       "      <th>21</th>\n",
       "      <td>-1.704320</td>\n",
       "      <td>-0.021863</td>\n",
       "      <td>Nonowner</td>\n",
       "      <td>22</td>\n",
       "    </tr>\n",
       "    <tr>\n",
       "      <th>22</th>\n",
       "      <td>-0.886713</td>\n",
       "      <td>-1.858395</td>\n",
       "      <td>Nonowner</td>\n",
       "      <td>23</td>\n",
       "    </tr>\n",
       "    <tr>\n",
       "      <th>23</th>\n",
       "      <td>-0.341643</td>\n",
       "      <td>-1.552307</td>\n",
       "      <td>Nonowner</td>\n",
       "      <td>24</td>\n",
       "    </tr>\n",
       "  </tbody>\n",
       "</table>\n",
       "</div>"
      ],
      "text/plain": [
       "     zIncome  zLot_size Ownership  Number\n",
       "0  -0.477910  -0.174908     Owner       1\n",
       "1   0.680365  -0.787085     Owner       2\n",
       "2  -0.259882   1.049447     Owner       3\n",
       "3  -0.409776   0.743358     Owner       4\n",
       "4   0.748499   1.814668     Owner       5\n",
       "5   1.797760   0.131181     Owner       6\n",
       "6   1.702373  -0.480996     Owner       7\n",
       "7   0.557724   1.355535     Owner       8\n",
       "8  -0.069107   0.437269     Owner       9\n",
       "9   1.021034   0.743358     Owner      10\n",
       "10 -0.886713   1.202491     Owner      11\n",
       "11  0.475964   0.437269     Owner      12\n",
       "12  0.203428   0.284225  Nonowner      13\n",
       "13 -0.804953   0.743358  Nonowner      14\n",
       "14 -0.259882  -0.634041  Nonowner      15\n",
       "15 -1.241009   0.590314  Nonowner      16\n",
       "16  0.612231  -0.480996  Nonowner      17\n",
       "17 -0.968474  -0.480996  Nonowner      18\n",
       "18 -0.505164  -1.093174  Nonowner      19\n",
       "19 -0.205375  -0.174908  Nonowner      20\n",
       "20 -1.050235  -0.940129  Nonowner      21\n",
       "21 -1.704320  -0.021863  Nonowner      22\n",
       "22 -0.886713  -1.858395  Nonowner      23\n",
       "23 -0.341643  -1.552307  Nonowner      24"
      ]
     },
     "execution_count": 7,
     "metadata": {},
     "output_type": "execute_result"
    }
   ],
   "source": [
    "scaler=preprocessing.StandardScaler()\n",
    "scaler.fit(trainData[['Income','Lot_Size']])\n",
    "mowerNorm= pd.concat([pd.DataFrame(scaler.transform(mower_df[['Income','Lot_Size']]),columns=['zIncome','zLot_size'])\n",
    "                      ,mower_df[['Ownership','Number']]],axis=1)\n",
    "mowerNorm"
   ]
  },
  {
   "cell_type": "code",
   "execution_count": 8,
   "id": "97acde51",
   "metadata": {
    "execution": {
     "iopub.execute_input": "2022-02-10T08:12:01.018172Z",
     "iopub.status.busy": "2022-02-10T08:12:01.013519Z",
     "iopub.status.idle": "2022-02-10T08:12:01.020296Z",
     "shell.execute_reply": "2022-02-10T08:12:01.019762Z",
     "shell.execute_reply.started": "2022-02-10T07:58:13.718656Z"
    },
    "papermill": {
     "duration": 0.019986,
     "end_time": "2022-02-10T08:12:01.020427",
     "exception": false,
     "start_time": "2022-02-10T08:12:01.000441",
     "status": "completed"
    },
    "tags": []
   },
   "outputs": [],
   "source": [
    "trainNorm=mowerNorm.iloc[trainData.index]\n",
    "valdNorm=mowerNorm.iloc[validData.index]\n",
    "newHouseholdNorm=pd.DataFrame(scaler.transform(newHousehold),columns=['zIncome','zLot_size'])"
   ]
  },
  {
   "cell_type": "code",
   "execution_count": 9,
   "id": "e8f0ed44",
   "metadata": {
    "execution": {
     "iopub.execute_input": "2022-02-10T08:12:01.050865Z",
     "iopub.status.busy": "2022-02-10T08:12:01.049866Z",
     "iopub.status.idle": "2022-02-10T08:12:01.058570Z",
     "shell.execute_reply": "2022-02-10T08:12:01.059344Z",
     "shell.execute_reply.started": "2022-02-10T07:58:17.16688Z"
    },
    "papermill": {
     "duration": 0.028744,
     "end_time": "2022-02-10T08:12:01.059634",
     "exception": false,
     "start_time": "2022-02-10T08:12:01.030890",
     "status": "completed"
    },
    "tags": []
   },
   "outputs": [
    {
     "name": "stdout",
     "output_type": "stream",
     "text": [
      "     zIncome  zLot_size Ownership  Number\n",
      "3  -0.409776   0.743358     Owner       4\n",
      "13 -0.804953   0.743358  Nonowner      14\n",
      "0  -0.477910  -0.174908     Owner       1\n"
     ]
    }
   ],
   "source": [
    "knn=NearestNeighbors(n_neighbors=3)\n",
    "knn.fit(trainNorm[['zIncome','zLot_size']])\n",
    "distances,indices=knn.kneighbors(newHouseholdNorm)\n",
    "print(trainNorm.iloc[indices[0],:])"
   ]
  },
  {
   "cell_type": "code",
   "execution_count": 10,
   "id": "324702cb",
   "metadata": {
    "execution": {
     "iopub.execute_input": "2022-02-10T08:12:01.085660Z",
     "iopub.status.busy": "2022-02-10T08:12:01.085043Z",
     "iopub.status.idle": "2022-02-10T08:12:01.148604Z",
     "shell.execute_reply": "2022-02-10T08:12:01.149491Z",
     "shell.execute_reply.started": "2022-02-10T07:58:20.069352Z"
    },
    "papermill": {
     "duration": 0.078028,
     "end_time": "2022-02-10T08:12:01.149741",
     "exception": false,
     "start_time": "2022-02-10T08:12:01.071713",
     "status": "completed"
    },
    "tags": []
   },
   "outputs": [
    {
     "name": "stdout",
     "output_type": "stream",
     "text": [
      "     k  accuracy\n",
      "0    1       0.6\n",
      "1    2       0.7\n",
      "2    3       0.8\n",
      "3    4       0.9\n",
      "4    5       0.7\n",
      "5    6       0.9\n",
      "6    7       0.9\n",
      "7    8       0.9\n",
      "8    9       0.9\n",
      "9   10       0.8\n",
      "10  11       0.8\n",
      "11  12       0.9\n",
      "12  13       0.4\n",
      "13  14       0.4\n"
     ]
    }
   ],
   "source": [
    "train_x=trainNorm[['zIncome','zLot_size']]\n",
    "train_y=trainNorm['Ownership']\n",
    "valid_x=valdNorm[['zIncome','zLot_size']]\n",
    "valid_y=valdNorm['Ownership']\n",
    "result=[]\n",
    "for k in range(1,15):\n",
    "    knn=KNeighborsClassifier(n_neighbors=k).fit(train_x,train_y)\n",
    "    result.append({'k':k,'accuracy':accuracy_score(valid_y,knn.predict(valid_x))})\n",
    "result=pd.DataFrame(result)\n",
    "print(result)"
   ]
  },
  {
   "cell_type": "code",
   "execution_count": 11,
   "id": "26ec3dd1",
   "metadata": {
    "execution": {
     "iopub.execute_input": "2022-02-10T08:12:01.190204Z",
     "iopub.status.busy": "2022-02-10T08:12:01.189420Z",
     "iopub.status.idle": "2022-02-10T08:12:01.192964Z",
     "shell.execute_reply": "2022-02-10T08:12:01.193609Z",
     "shell.execute_reply.started": "2022-02-10T07:58:23.305303Z"
    },
    "papermill": {
     "duration": 0.032142,
     "end_time": "2022-02-10T08:12:01.193822",
     "exception": false,
     "start_time": "2022-02-10T08:12:01.161680",
     "status": "completed"
    },
    "tags": []
   },
   "outputs": [
    {
     "name": "stdout",
     "output_type": "stream",
     "text": [
      "['Owner']\n",
      "distances [[0.31358009 0.40880312 0.44793643 0.61217726]]\n",
      "     zIncome  zLot_size Ownership  Number\n",
      "3  -0.409776   0.743358     Owner       4\n",
      "8  -0.069107   0.437269     Owner       9\n",
      "13 -0.804953   0.743358  Nonowner      14\n",
      "0  -0.477910  -0.174908     Owner       1\n"
     ]
    }
   ],
   "source": [
    "mower_x=mowerNorm[['zIncome','zLot_size']]\n",
    "mower_y=mowerNorm['Ownership']\n",
    "knn=KNeighborsClassifier(n_neighbors=4).fit(mower_x,mower_y)\n",
    "distances,indices=knn.kneighbors(newHouseholdNorm)\n",
    "print(knn.predict(newHouseholdNorm))\n",
    "print('distances',distances)\n",
    "print(mowerNorm.iloc[indices[0],:])"
   ]
  }
 ],
 "metadata": {
  "kernelspec": {
   "display_name": "Python 3",
   "language": "python",
   "name": "python3"
  },
  "language_info": {
   "codemirror_mode": {
    "name": "ipython",
    "version": 3
   },
   "file_extension": ".py",
   "mimetype": "text/x-python",
   "name": "python",
   "nbconvert_exporter": "python",
   "pygments_lexer": "ipython3",
   "version": "3.7.12"
  },
  "papermill": {
   "default_parameters": {},
   "duration": 10.831794,
   "end_time": "2022-02-10T08:12:01.915522",
   "environment_variables": {},
   "exception": null,
   "input_path": "__notebook__.ipynb",
   "output_path": "__notebook__.ipynb",
   "parameters": {},
   "start_time": "2022-02-10T08:11:51.083728",
   "version": "2.3.3"
  }
 },
 "nbformat": 4,
 "nbformat_minor": 5
}
